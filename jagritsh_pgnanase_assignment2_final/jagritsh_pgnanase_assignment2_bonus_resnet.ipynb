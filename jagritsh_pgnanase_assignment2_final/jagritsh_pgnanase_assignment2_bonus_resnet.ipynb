{
  "cells": [
    {
      "cell_type": "code",
      "execution_count": 1,
      "metadata": {
        "id": "I6QIjfZPKThe"
      },
      "outputs": [],
      "source": [
        "import torch\n",
        "import torch.nn as nn\n",
        "from torch.nn import init\n",
        "import torchvision\n",
        "import torchvision.transforms as transforms\n",
        "from torch.utils.data import DataLoader\n",
        "import matplotlib.pyplot as plt\n",
        "import numpy as np"
      ]
    },
    {
      "cell_type": "code",
      "execution_count": 2,
      "metadata": {
        "id": "26dTQpK1KThf"
      },
      "outputs": [],
      "source": [
        "class BasicBlock(nn.Module):\n",
        "    expansion = 1\n",
        "\n",
        "    def __init__(self, in_channels, out_channels, stride=1):\n",
        "        super(BasicBlock, self).__init__()\n",
        "        self.conv1 = nn.Conv2d(in_channels, out_channels, kernel_size=3, stride=stride, padding=1, bias=False)\n",
        "        self.bn1 = nn.BatchNorm2d(out_channels)\n",
        "        self.relu = nn.ReLU(inplace=True)\n",
        "        self.conv2 = nn.Conv2d(out_channels, out_channels, kernel_size=3, stride=1, padding=1, bias=False)\n",
        "        self.bn2 = nn.BatchNorm2d(out_channels)\n",
        "\n",
        "        self.shortcut = nn.Sequential()\n",
        "        if stride != 1 or in_channels != self.expansion * out_channels:\n",
        "            self.shortcut = nn.Sequential(\n",
        "                nn.Conv2d(in_channels, self.expansion * out_channels, kernel_size=1, stride=stride, bias=False),\n",
        "                nn.BatchNorm2d(self.expansion * out_channels)\n",
        "            )\n",
        "\n",
        "    def forward(self, x):\n",
        "        out = self.relu(self.bn1(self.conv1(x)))\n",
        "        out = self.bn2(self.conv2(out))\n",
        "        out += self.shortcut(x)\n",
        "        out = self.relu(out)\n",
        "        return out"
      ]
    },
    {
      "cell_type": "code",
      "execution_count": 3,
      "metadata": {
        "id": "bFMr0h2xKThg"
      },
      "outputs": [],
      "source": [
        "class ResNet(nn.Module):\n",
        "    def __init__(self, block, num_blocks, num_classes=5):\n",
        "        super(ResNet, self).__init__()\n",
        "        self.in_channels = 64\n",
        "\n",
        "        self.conv1 = nn.Conv2d(3, 64, kernel_size=7, stride=2, padding=3, bias=False)\n",
        "        self.bn1 = nn.BatchNorm2d(64)\n",
        "        self.relu = nn.ReLU(inplace=True)\n",
        "        self.maxpool = nn.MaxPool2d(kernel_size=3, stride=2, padding=1)\n",
        "\n",
        "        self.layer1 = self._make_layer(block, 64, num_blocks[0], stride=1)\n",
        "        self.layer2 = self._make_layer(block, 128, num_blocks[1], stride=2)\n",
        "        self.layer3 = self._make_layer(block, 256, num_blocks[2], stride=2)\n",
        "        self.layer4 = self._make_layer(block, 512, num_blocks[3], stride=2)\n",
        "\n",
        "        self.avgpool = nn.AdaptiveAvgPool2d((1, 1))\n",
        "        self.fc = nn.Linear(512 * block.expansion, num_classes)\n",
        "\n",
        "        self.apply(self._init_weights)\n",
        "\n",
        "    def _init_weights(self, m):\n",
        "        if isinstance(m, nn.Conv2d):\n",
        "            init.xavier_uniform_(m.weight)\n",
        "            if m.bias is not None:\n",
        "                init.constant_(m.bias, 0)\n",
        "        elif isinstance(m, nn.Linear):\n",
        "            init.xavier_uniform_(m.weight)\n",
        "            init.constant_(m.bias, 0)\n",
        "        elif isinstance(m, nn.BatchNorm2d):\n",
        "            init.constant_(m.weight, 1)\n",
        "            init.constant_(m.bias, 0)\n",
        "\n",
        "    def _make_layer(self, block, out_channels, num_blocks, stride):\n",
        "        strides = [stride] + [1] * (num_blocks - 1)\n",
        "        layers = []\n",
        "        for stride in strides:\n",
        "            layers.append(block(self.in_channels, out_channels, stride))\n",
        "            self.in_channels = out_channels * block.expansion\n",
        "        return nn.Sequential(*layers)\n",
        "\n",
        "    def forward(self, x):\n",
        "        out = self.relu(self.bn1(self.conv1(x)))\n",
        "        out = self.maxpool(out)\n",
        "\n",
        "        out = self.layer1(out)\n",
        "        out = self.layer2(out)\n",
        "        out = self.layer3(out)\n",
        "        out = self.layer4(out)\n",
        "\n",
        "        out = self.avgpool(out)\n",
        "        out = torch.flatten(out, 1)\n",
        "        out = self.fc(out)\n",
        "        return out"
      ]
    },
    {
      "cell_type": "code",
      "execution_count": 4,
      "metadata": {
        "id": "WGMVvGesKThg"
      },
      "outputs": [],
      "source": [
        "def ResNet34(num_classes=102):\n",
        "    return ResNet(BasicBlock, [3, 4, 6, 3], num_classes=num_classes)"
      ]
    },
    {
      "cell_type": "code",
      "execution_count": 5,
      "metadata": {
        "colab": {
          "base_uri": "https://localhost:8080/"
        },
        "id": "b-iEE4jLKThg",
        "outputId": "5fab6674-008d-433c-a38c-50e5f0a4c3ba"
      },
      "outputs": [
        {
          "output_type": "stream",
          "name": "stdout",
          "text": [
            "Downloading https://thor.robots.ox.ac.uk/flowers/102/102flowers.tgz to data/flowers-102/102flowers.tgz\n"
          ]
        },
        {
          "output_type": "stream",
          "name": "stderr",
          "text": [
            "100%|██████████| 345M/345M [00:02<00:00, 164MB/s]\n"
          ]
        },
        {
          "output_type": "stream",
          "name": "stdout",
          "text": [
            "Extracting data/flowers-102/102flowers.tgz to data/flowers-102\n",
            "Downloading https://thor.robots.ox.ac.uk/flowers/102/imagelabels.mat to data/flowers-102/imagelabels.mat\n"
          ]
        },
        {
          "output_type": "stream",
          "name": "stderr",
          "text": [
            "100%|██████████| 502/502 [00:00<00:00, 605kB/s]\n"
          ]
        },
        {
          "output_type": "stream",
          "name": "stdout",
          "text": [
            "Downloading https://thor.robots.ox.ac.uk/flowers/102/setid.mat to data/flowers-102/setid.mat\n"
          ]
        },
        {
          "output_type": "stream",
          "name": "stderr",
          "text": [
            "100%|██████████| 15.0k/15.0k [00:00<00:00, 42.5MB/s]\n"
          ]
        }
      ],
      "source": [
        "transform_train = transforms.Compose([\n",
        "    transforms.RandomResizedCrop(224),\n",
        "    transforms.RandomHorizontalFlip(),\n",
        "    transforms.RandomRotation(15),\n",
        "    transforms.ColorJitter(brightness=0.2, contrast=0.2, saturation=0.2),\n",
        "    transforms.ToTensor(),\n",
        "    transforms.Normalize(mean=[0.485, 0.456, 0.406], std=[0.229, 0.224, 0.225])\n",
        "])\n",
        "\n",
        "transform_val = transforms.Compose([\n",
        "    transforms.Resize(256),\n",
        "    transforms.CenterCrop(224),\n",
        "    transforms.ToTensor(),\n",
        "    transforms.Normalize(mean=[0.485, 0.456, 0.406], std=[0.229, 0.224, 0.225])\n",
        "])\n",
        "\n",
        "train_dataset = torchvision.datasets.Flowers102(root='./data', split='train', download=True, transform=transform_train)\n",
        "val_dataset = torchvision.datasets.Flowers102(root='./data', split='val', download=True, transform=transform_val)\n"
      ]
    },
    {
      "cell_type": "code",
      "execution_count": 6,
      "metadata": {
        "id": "QByp8Jq2KThh"
      },
      "outputs": [],
      "source": [
        "train_loader = DataLoader(train_dataset, batch_size=32, shuffle=True)\n",
        "val_loader = DataLoader(val_dataset, batch_size=32, shuffle=False)"
      ]
    },
    {
      "cell_type": "code",
      "execution_count": 7,
      "metadata": {
        "colab": {
          "base_uri": "https://localhost:8080/"
        },
        "id": "G2iC0omTKThh",
        "outputId": "6a9faf1d-3443-42ad-8b62-35d062ebad8c"
      },
      "outputs": [
        {
          "output_type": "execute_result",
          "data": {
            "text/plain": [
              "device(type='cuda')"
            ]
          },
          "metadata": {},
          "execution_count": 7
        }
      ],
      "source": [
        "device = torch.device(\"cuda\" if torch.cuda.is_available() else \"cpu\")\n",
        "device"
      ]
    },
    {
      "cell_type": "code",
      "execution_count": 17,
      "metadata": {
        "colab": {
          "base_uri": "https://localhost:8080/"
        },
        "id": "vNxVmAJ9KThh",
        "outputId": "cdc52724-7dea-4ac8-93e9-aa3058d101c2"
      },
      "outputs": [
        {
          "output_type": "stream",
          "name": "stderr",
          "text": [
            "/usr/local/lib/python3.10/dist-packages/torch/optim/lr_scheduler.py:62: UserWarning: The verbose parameter is deprecated. Please use get_last_lr() to access the learning rate.\n",
            "  warnings.warn(\n"
          ]
        }
      ],
      "source": [
        "from torch.optim.lr_scheduler import ReduceLROnPlateau\n",
        "\n",
        "model = ResNet34(num_classes=102).to(device)\n",
        "criterion = nn.CrossEntropyLoss()\n",
        "optimizer = torch.optim.Adam(model.parameters(), lr=0.001)\n",
        "scheduler = ReduceLROnPlateau(optimizer, mode='max', factor=0.1, patience=3, verbose=True)"
      ]
    },
    {
      "cell_type": "code",
      "execution_count": 18,
      "metadata": {
        "colab": {
          "base_uri": "https://localhost:8080/"
        },
        "id": "fH7kqDjRKThh",
        "outputId": "94725f3a-b88e-4c71-f03e-22dc939ea5cf"
      },
      "outputs": [
        {
          "output_type": "stream",
          "name": "stdout",
          "text": [
            "Epoch [1/100], Train Loss: 5.2927, Val Accuracy: 3.63%\n",
            "Epoch [2/100], Train Loss: 4.3428, Val Accuracy: 5.29%\n",
            "Epoch [3/100], Train Loss: 4.1883, Val Accuracy: 6.76%\n",
            "Epoch [4/100], Train Loss: 4.0477, Val Accuracy: 9.02%\n",
            "Epoch [5/100], Train Loss: 3.9380, Val Accuracy: 10.00%\n",
            "Epoch [6/100], Train Loss: 3.8759, Val Accuracy: 6.27%\n",
            "Epoch [7/100], Train Loss: 3.7663, Val Accuracy: 9.51%\n",
            "Epoch [8/100], Train Loss: 3.7082, Val Accuracy: 12.75%\n",
            "Epoch [9/100], Train Loss: 3.6404, Val Accuracy: 10.88%\n",
            "Epoch [10/100], Train Loss: 3.5899, Val Accuracy: 15.78%\n",
            "Epoch [11/100], Train Loss: 3.5375, Val Accuracy: 15.29%\n",
            "Epoch [12/100], Train Loss: 3.5514, Val Accuracy: 15.78%\n",
            "Epoch [13/100], Train Loss: 3.4070, Val Accuracy: 18.33%\n",
            "Epoch [14/100], Train Loss: 3.4351, Val Accuracy: 15.49%\n",
            "Epoch [15/100], Train Loss: 3.3851, Val Accuracy: 17.94%\n",
            "Epoch [16/100], Train Loss: 3.2834, Val Accuracy: 16.86%\n",
            "Epoch [17/100], Train Loss: 3.2268, Val Accuracy: 21.37%\n",
            "Epoch [18/100], Train Loss: 3.2270, Val Accuracy: 19.71%\n",
            "Epoch [19/100], Train Loss: 3.2195, Val Accuracy: 20.78%\n",
            "Epoch [20/100], Train Loss: 3.0685, Val Accuracy: 21.76%\n",
            "Epoch [21/100], Train Loss: 3.1291, Val Accuracy: 24.02%\n",
            "Epoch [22/100], Train Loss: 3.1590, Val Accuracy: 21.67%\n",
            "Epoch [23/100], Train Loss: 3.1079, Val Accuracy: 19.71%\n",
            "Epoch [24/100], Train Loss: 2.9679, Val Accuracy: 23.82%\n",
            "Epoch [25/100], Train Loss: 2.9427, Val Accuracy: 20.29%\n",
            "Epoch [26/100], Train Loss: 2.9248, Val Accuracy: 25.59%\n",
            "Epoch [27/100], Train Loss: 2.8725, Val Accuracy: 27.16%\n",
            "Epoch [28/100], Train Loss: 2.9101, Val Accuracy: 28.43%\n",
            "Epoch [29/100], Train Loss: 2.8421, Val Accuracy: 24.80%\n",
            "Epoch [30/100], Train Loss: 2.8724, Val Accuracy: 23.92%\n",
            "Epoch [31/100], Train Loss: 2.8143, Val Accuracy: 27.35%\n",
            "Epoch [32/100], Train Loss: 2.6552, Val Accuracy: 26.96%\n",
            "Epoch [33/100], Train Loss: 2.7162, Val Accuracy: 29.12%\n",
            "Epoch [34/100], Train Loss: 2.7106, Val Accuracy: 27.45%\n",
            "Epoch [35/100], Train Loss: 2.5952, Val Accuracy: 31.08%\n",
            "Epoch [36/100], Train Loss: 2.6098, Val Accuracy: 27.55%\n",
            "Epoch [37/100], Train Loss: 2.5325, Val Accuracy: 30.00%\n",
            "Epoch [38/100], Train Loss: 2.6722, Val Accuracy: 35.10%\n",
            "Epoch [39/100], Train Loss: 2.4680, Val Accuracy: 29.12%\n",
            "Epoch [40/100], Train Loss: 2.4641, Val Accuracy: 30.39%\n",
            "Epoch [41/100], Train Loss: 2.4215, Val Accuracy: 34.71%\n",
            "Epoch [42/100], Train Loss: 2.3546, Val Accuracy: 34.12%\n",
            "Epoch [43/100], Train Loss: 2.3736, Val Accuracy: 34.51%\n",
            "Epoch [44/100], Train Loss: 2.2983, Val Accuracy: 33.14%\n",
            "Epoch [45/100], Train Loss: 2.1922, Val Accuracy: 32.84%\n",
            "Epoch [46/100], Train Loss: 2.3241, Val Accuracy: 31.86%\n",
            "Epoch [47/100], Train Loss: 2.2360, Val Accuracy: 36.96%\n",
            "Epoch [48/100], Train Loss: 2.1574, Val Accuracy: 36.67%\n",
            "Epoch [49/100], Train Loss: 2.0772, Val Accuracy: 32.65%\n",
            "Epoch [50/100], Train Loss: 2.0821, Val Accuracy: 33.73%\n",
            "Epoch [51/100], Train Loss: 2.1644, Val Accuracy: 37.45%\n",
            "Epoch [52/100], Train Loss: 1.9340, Val Accuracy: 40.20%\n",
            "Epoch [53/100], Train Loss: 2.0283, Val Accuracy: 39.31%\n",
            "Epoch [54/100], Train Loss: 2.0253, Val Accuracy: 37.45%\n",
            "Epoch [55/100], Train Loss: 1.9561, Val Accuracy: 35.98%\n",
            "Epoch [56/100], Train Loss: 1.9115, Val Accuracy: 35.20%\n",
            "Epoch [57/100], Train Loss: 1.8712, Val Accuracy: 40.49%\n",
            "Epoch [58/100], Train Loss: 1.8673, Val Accuracy: 39.31%\n",
            "Epoch [59/100], Train Loss: 1.8445, Val Accuracy: 39.51%\n",
            "Epoch [60/100], Train Loss: 1.7134, Val Accuracy: 38.82%\n",
            "Epoch [61/100], Train Loss: 1.8894, Val Accuracy: 36.27%\n",
            "Epoch [62/100], Train Loss: 1.7121, Val Accuracy: 43.24%\n",
            "Epoch [63/100], Train Loss: 1.6472, Val Accuracy: 36.08%\n",
            "Epoch [64/100], Train Loss: 1.6543, Val Accuracy: 40.00%\n",
            "Epoch [65/100], Train Loss: 1.6483, Val Accuracy: 39.90%\n",
            "Epoch [66/100], Train Loss: 1.5741, Val Accuracy: 31.08%\n",
            "Epoch [67/100], Train Loss: 1.5637, Val Accuracy: 39.12%\n",
            "Epoch [68/100], Train Loss: 1.5490, Val Accuracy: 40.98%\n",
            "Epoch [69/100], Train Loss: 1.5642, Val Accuracy: 43.24%\n",
            "Epoch [70/100], Train Loss: 1.4473, Val Accuracy: 42.35%\n",
            "Epoch [71/100], Train Loss: 1.5406, Val Accuracy: 43.82%\n",
            "Epoch [72/100], Train Loss: 1.4526, Val Accuracy: 43.04%\n",
            "Epoch [73/100], Train Loss: 1.3456, Val Accuracy: 43.92%\n",
            "Epoch [74/100], Train Loss: 1.4322, Val Accuracy: 41.67%\n",
            "Epoch [75/100], Train Loss: 1.3871, Val Accuracy: 44.02%\n",
            "Epoch [76/100], Train Loss: 1.4051, Val Accuracy: 47.25%\n",
            "Epoch [77/100], Train Loss: 1.3613, Val Accuracy: 46.47%\n",
            "Epoch [78/100], Train Loss: 1.1826, Val Accuracy: 44.31%\n",
            "Epoch [79/100], Train Loss: 1.2570, Val Accuracy: 45.39%\n",
            "Epoch [80/100], Train Loss: 1.2131, Val Accuracy: 45.10%\n",
            "Epoch [81/100], Train Loss: 1.2556, Val Accuracy: 46.37%\n",
            "Epoch [82/100], Train Loss: 1.1791, Val Accuracy: 44.31%\n",
            "Epoch [83/100], Train Loss: 1.1736, Val Accuracy: 47.35%\n",
            "Epoch [84/100], Train Loss: 1.2024, Val Accuracy: 47.94%\n",
            "Epoch [85/100], Train Loss: 1.1305, Val Accuracy: 47.35%\n",
            "Epoch [86/100], Train Loss: 1.1838, Val Accuracy: 51.76%\n",
            "Epoch [87/100], Train Loss: 1.1114, Val Accuracy: 48.04%\n",
            "Epoch [88/100], Train Loss: 1.0182, Val Accuracy: 46.37%\n",
            "Epoch [89/100], Train Loss: 1.0632, Val Accuracy: 42.94%\n",
            "Epoch [90/100], Train Loss: 1.0904, Val Accuracy: 46.86%\n",
            "Epoch [91/100], Train Loss: 1.0997, Val Accuracy: 48.14%\n",
            "Epoch [92/100], Train Loss: 1.0602, Val Accuracy: 45.69%\n",
            "Epoch [93/100], Train Loss: 0.8566, Val Accuracy: 50.10%\n",
            "Epoch [94/100], Train Loss: 0.9581, Val Accuracy: 50.88%\n",
            "Epoch [95/100], Train Loss: 0.9295, Val Accuracy: 49.41%\n",
            "Epoch [96/100], Train Loss: 0.9832, Val Accuracy: 46.76%\n",
            "Epoch [97/100], Train Loss: 1.0221, Val Accuracy: 46.86%\n",
            "Epoch [98/100], Train Loss: 0.9856, Val Accuracy: 49.31%\n",
            "Epoch [99/100], Train Loss: 0.8727, Val Accuracy: 51.37%\n",
            "Epoch [100/100], Train Loss: 0.8606, Val Accuracy: 51.27%\n"
          ]
        }
      ],
      "source": [
        "num_epochs = 100\n",
        "train_losses = []\n",
        "val_accuracies = []\n",
        "\n",
        "for epoch in range(num_epochs):\n",
        "    model.train()\n",
        "    train_loss = 0.0\n",
        "    for images, labels in train_loader:\n",
        "        images, labels = images.to(device), labels.to(device)\n",
        "        optimizer.zero_grad()\n",
        "        outputs = model(images)\n",
        "        loss = criterion(outputs, labels)\n",
        "        loss.backward()\n",
        "        optimizer.step()\n",
        "        train_loss += loss.item()\n",
        "\n",
        "    train_losses.append(train_loss / len(train_loader))\n",
        "\n",
        "    model.eval()\n",
        "    correct = 0\n",
        "    total = 0\n",
        "    with torch.no_grad():\n",
        "        for images, labels in val_loader:\n",
        "            images, labels = images.to(device), labels.to(device)\n",
        "            outputs = model(images)\n",
        "            _, predicted = torch.max(outputs.data, 1)\n",
        "            total += labels.size(0)\n",
        "            correct += (predicted == labels).sum().item()\n",
        "\n",
        "    accuracy = 100 * correct / total\n",
        "    val_accuracies.append(accuracy)\n",
        "\n",
        "    print(f\"Epoch [{epoch+1}/{num_epochs}], Train Loss: {train_losses[-1]:.4f}, Val Accuracy: {accuracy:.2f}%\")"
      ]
    },
    {
      "cell_type": "code",
      "source": [
        "from sklearn.metrics import precision_recall_fscore_support\n",
        "\n",
        "model.eval()\n",
        "all_preds = []\n",
        "all_labels = []\n",
        "correct = 0\n",
        "total = 0\n",
        "with torch.no_grad():\n",
        "    for images, labels in val_loader:\n",
        "        images, labels = images.to(device), labels.to(device)\n",
        "        outputs = model(images)\n",
        "        _, predicted = torch.max(outputs.data, 1)\n",
        "        total += labels.size(0)\n",
        "        correct += (predicted == labels).sum().item()\n",
        "        all_preds.extend(predicted.cpu().numpy())\n",
        "        all_labels.extend(labels.cpu().numpy())\n",
        "\n",
        "accuracy = correct / total\n",
        "precision, recall, f1, _ = precision_recall_fscore_support(all_labels, all_preds, average='weighted')\n",
        "\n",
        "print(\"------------------------------BASE MODEL------------------------------\")\n",
        "print(f\"Final Metrics on Validation Set:\")\n",
        "print(f\"Test Accuracy: {accuracy:.4f}\")\n",
        "print(f\"Test Precision: {precision:.4f}\")\n",
        "print(f\"Test Recall: {recall:.4f}\")\n",
        "print(f\"Test F1 Score: {f1:.4f}\")\n"
      ],
      "metadata": {
        "colab": {
          "base_uri": "https://localhost:8080/"
        },
        "id": "RUPTfGnPOcI_",
        "outputId": "3479280b-1efd-4b0f-f318-24b6d32d81e7"
      },
      "execution_count": 48,
      "outputs": [
        {
          "output_type": "stream",
          "name": "stdout",
          "text": [
            "------------------------------BASE MODEL------------------------------\n",
            "Final Metrics on Validation Set:\n",
            "Test Accuracy: 0.8614\n",
            "Test Precision: 0.8959\n",
            "Test Recall: 0.8614\n",
            "Test F1 Score: 0.8636\n"
          ]
        }
      ]
    },
    {
      "cell_type": "code",
      "execution_count": 49,
      "metadata": {
        "colab": {
          "base_uri": "https://localhost:8080/",
          "height": 507
        },
        "id": "bfuKrs2zKThi",
        "outputId": "5f3fe5dc-04b2-491c-961c-5f2667d4f106"
      },
      "outputs": [
        {
          "output_type": "display_data",
          "data": {
            "text/plain": [
              "<Figure size 1200x500 with 1 Axes>"
            ],
            "image/png": "[encoded data removed]"
          },
          "metadata": {}
        }
      ],
      "source": [
        "plt.figure(figsize=(12, 5))\n",
        "plt.subplot(1, 2, 1)\n",
        "plt.plot(train_losses)\n",
        "plt.title('Training Loss')\n",
        "plt.xlabel('Epoch')\n",
        "plt.ylabel('Loss')\n",
        "plt.tight_layout()\n",
        "plt.show()"
      ]
    }
  ],
  "metadata": {
    "kernelspec": {
      "display_name": "Python 3",
      "name": "python3"
    },
    "language_info": {
      "codemirror_mode": {
        "name": "ipython",
        "version": 3
      },
      "file_extension": ".py",
      "mimetype": "text/x-python",
      "name": "python",
      "nbconvert_exporter": "python",
      "pygments_lexer": "ipython3",
      "version": "3.9.6"
    },
    "colab": {
      "provenance": [],
      "gpuType": "T4"
    },
    "accelerator": "GPU"
  },
  "nbformat": 4,
  "nbformat_minor": 0
}